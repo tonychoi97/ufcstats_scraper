{
 "cells": [
  {
   "cell_type": "markdown",
   "metadata": {},
   "source": [
    "### Libraries\n"
   ]
  },
  {
   "cell_type": "code",
   "execution_count": 7,
   "metadata": {},
   "outputs": [],
   "source": [
    "import pandas as pd\n",
    "import numpy as np\n",
    "import requests\n",
    "import time\n",
    "import csv\n",
    "from bs4 import BeautifulSoup\n",
    "\n",
    "from IPython.display import display, HTML"
   ]
  },
  {
   "cell_type": "markdown",
   "metadata": {},
   "source": [
    "### Functions"
   ]
  },
  {
   "cell_type": "code",
   "execution_count": 55,
   "metadata": {},
   "outputs": [],
   "source": [
    "def get_ufcstats_links():\n",
    "    url = 'http://ufcstats.com/statistics/events/completed'\n",
    "    response = requests.get(url)\n",
    "    soup = BeautifulSoup(response.text, 'html.parser')\n",
    "    event_urls = []\n",
    "    fight_details_urls = []\n",
    "\n",
    "    for url in soup.select('.b-statistics__table-content a'):\n",
    "        if url.has_attr('href'):\n",
    "            event_urls.append(url['href'])\n",
    "    \n",
    "    for event_url in event_urls[:3]:\n",
    "        response = requests.get(event_url)\n",
    "        soup = BeautifulSoup(response.text, 'html.parser')\n",
    "\n",
    "        for i in soup.select('tr.b-fight-details__table-row'):\n",
    "            if i.has_attr('data-link'):\n",
    "                fight_details_urls.append(i['data-link'])\n",
    "\n",
    "        time.sleep(2)\n",
    "\n",
    "    return fight_details_urls\n",
    "    "
   ]
  },
  {
   "cell_type": "code",
   "execution_count": 82,
   "metadata": {},
   "outputs": [],
   "source": [
    "def extracting_details(match_url):\n",
    "    response = requests.get(match_url)\n",
    "    soup = BeautifulSoup(response.text, 'html.parser')\n",
    "\n",
    "    fighters = [name.text.strip() for name in soup.select(\".b-fight-details__person-name\")]\n",
    "    result = [status.text.strip() for status in soup.select(\".b-fight-details__person-status\")]\n",
    "    method = soup.select_one(\".b-fight-details__text-item_first:-soup-contains('Method')\")\n",
    "    round = soup.select_one(\".b-fight-details__text-item:-soup-contains('Round')\")\n",
    "    time = soup.select_one(\".b-fight-details__text-item:-soup-contains('Time')\")\n",
    "    time_format = soup.select_one(\".b-fight-details__text-item:-soup-contains('Time format')\")\n",
    "    referee = soup.select_one(\".b-fight-details__text-item:-soup-contains('Referee')\")\n",
    "    details = [detail.text.strip() for detail in soup.select(\".b-fight-details__text-item_first:-soup-contains('Details')\")]\n",
    "\n",
    "    fight_details_1 = {\n",
    "        \"Match_URL\": match_url,\n",
    "\n",
    "        \"Fighter\": fighters[0] if len(fighters) > 1 else \"null\",\n",
    "        \"Fighting_Against\": fighters[1] if len(fighters) > 1 else \"null\",\n",
    "\n",
    "        \"Result\": result[0] if len(result) > 1 else \"null\",\n",
    "        \"Method\": method.text.strip().split(\"\\n\")[-1] if method else \"null\",\n",
    "        \"Round\": round.text.strip().split(\"\\n\")[-1] if round else \"null\",\n",
    "        \"Time\": time.text.strip().split(\"\\n\")[-1] if time else \"null\",\n",
    "        \"Time Format\": time_format.text.strip().split(\"\\n\")[-1] if time_format else \"null\",\n",
    "        \"Referee\": referee.text.strip().split(\"\\n\")[-1] if referee else \"null\",\n",
    "\n",
    "        \"Details\": details if len(details) > 1 else \"null\"\n",
    "    }      \n",
    "\n",
    "    fight_details_2 = {\n",
    "        \"Match_URL\": match_url,\n",
    "\n",
    "        \"Fighter\": fighters[1] if len(fighters) > 1 else \"null\",\n",
    "        \"Fighting_Against\": fighters[0] if len(fighters) > 1 else \"null\",\n",
    "\n",
    "        \"Result\": result[1] if len(result) > 1 else \"null\",\n",
    "        \"Method\": method.text.strip().split(\"\\n\")[-1] if method else \"null\",\n",
    "        \"Round\": round.text.strip().split(\"\\n\")[-1] if round else \"null\",\n",
    "        \"Time\": time.text.strip().split(\"\\n\")[-1] if time else \"null\",\n",
    "        \"Time Format\": time_format.text.strip().split(\"\\n\")[-1] if time_format else \"null\",\n",
    "        \"Referee\": referee.text.strip().split(\"\\n\")[-1] if referee else \"null\",\n",
    "\n",
    "        \"Details\": details if len(details) > 1 else \"null\"\n",
    "    }\n",
    "    \n",
    "    return fight_details_1, fight_details_2"
   ]
  },
  {
   "cell_type": "markdown",
   "metadata": {},
   "source": [
    "### Main"
   ]
  },
  {
   "cell_type": "code",
   "execution_count": 81,
   "metadata": {},
   "outputs": [],
   "source": [
    "def main():\n",
    "    fight_details_list = get_ufcstats_links()\n",
    "    list1 = []\n",
    "    list2 = []\n",
    "    fights = []\n",
    "\n",
    "    for i in fight_details_list[26:29]:\n",
    "        list1, list2 = extracting_details(i)\n",
    "        fights.append(list1)\n",
    "        fights.append(list2)\n",
    "        time.sleep(2)\n",
    "\n",
    "    df_fights = pd.DataFrame(fights)\n",
    "    display(HTML(df_fights.to_html()))\n",
    "\n",
    "    print('Done.')"
   ]
  },
  {
   "cell_type": "code",
   "execution_count": 80,
   "metadata": {},
   "outputs": [
    {
     "data": {
      "text/html": [
       "<table border=\"1\" class=\"dataframe\">\n",
       "  <thead>\n",
       "    <tr style=\"text-align: right;\">\n",
       "      <th></th>\n",
       "      <th>Match_URL</th>\n",
       "      <th>Fighter</th>\n",
       "      <th>Fighting_Against</th>\n",
       "      <th>Result</th>\n",
       "      <th>Method</th>\n",
       "      <th>Round</th>\n",
       "      <th>Time</th>\n",
       "      <th>Time Format</th>\n",
       "      <th>Referee</th>\n",
       "      <th>Details</th>\n",
       "    </tr>\n",
       "  </thead>\n",
       "  <tbody>\n",
       "    <tr>\n",
       "      <th>0</th>\n",
       "      <td>http://ufcstats.com/fight-details/67f7163e536d62e2</td>\n",
       "      <td>Marvin Vettori</td>\n",
       "      <td>Roman Dolidze</td>\n",
       "      <td>L</td>\n",
       "      <td>Decision - Unanimous</td>\n",
       "      <td>5</td>\n",
       "      <td>5:00</td>\n",
       "      <td>5 Rnd (5-5-5-5-5)</td>\n",
       "      <td>Herb Dean</td>\n",
       "      <td>null</td>\n",
       "    </tr>\n",
       "    <tr>\n",
       "      <th>1</th>\n",
       "      <td>http://ufcstats.com/fight-details/67f7163e536d62e2</td>\n",
       "      <td>Roman Dolidze</td>\n",
       "      <td>Marvin Vettori</td>\n",
       "      <td>W</td>\n",
       "      <td>Decision - Unanimous</td>\n",
       "      <td>5</td>\n",
       "      <td>5:00</td>\n",
       "      <td>5 Rnd (5-5-5-5-5)</td>\n",
       "      <td>Herb Dean</td>\n",
       "      <td>null</td>\n",
       "    </tr>\n",
       "    <tr>\n",
       "      <th>2</th>\n",
       "      <td>http://ufcstats.com/fight-details/c83133ee114945ed</td>\n",
       "      <td>Chidi Njokuani</td>\n",
       "      <td>Elizeu Zaleski dos Santos</td>\n",
       "      <td>W</td>\n",
       "      <td>KO/TKO</td>\n",
       "      <td>2</td>\n",
       "      <td>2:19</td>\n",
       "      <td>3 Rnd (5-5-5)</td>\n",
       "      <td>Mark Smith</td>\n",
       "      <td>null</td>\n",
       "    </tr>\n",
       "    <tr>\n",
       "      <th>3</th>\n",
       "      <td>http://ufcstats.com/fight-details/c83133ee114945ed</td>\n",
       "      <td>Elizeu Zaleski dos Santos</td>\n",
       "      <td>Chidi Njokuani</td>\n",
       "      <td>L</td>\n",
       "      <td>KO/TKO</td>\n",
       "      <td>2</td>\n",
       "      <td>2:19</td>\n",
       "      <td>3 Rnd (5-5-5)</td>\n",
       "      <td>Mark Smith</td>\n",
       "      <td>null</td>\n",
       "    </tr>\n",
       "  </tbody>\n",
       "</table>"
      ],
      "text/plain": [
       "<IPython.core.display.HTML object>"
      ]
     },
     "metadata": {},
     "output_type": "display_data"
    },
    {
     "name": "stdout",
     "output_type": "stream",
     "text": [
      "Done.\n"
     ]
    }
   ],
   "source": [
    "if __name__ == '__main__':\n",
    "    main()"
   ]
  },
  {
   "cell_type": "code",
   "execution_count": null,
   "metadata": {},
   "outputs": [],
   "source": [
    "def get_event_links():\n",
    "    url = 'http://ufcstats.com/statistics/events/completed'\n",
    "    response = requests.get(url)\n",
    "    soup = BeautifulSoup(response.text, 'html.parser')\n",
    "    event_links = []\n",
    "\n",
    "    for i in soup.select('.b-statistics__table-content a'): # Locating event links\n",
    "        if i.has_attr('href'):\n",
    "            event_links.append(i['href'])\n",
    "\n",
    "    return event_links\n",
    "\n",
    "def scrape_fight_data(event_url): # Scrapes individual fight details urls into a list\n",
    "    response = requests.get(event_url)\n",
    "    soup = BeautifulSoup(response.text, 'html.parser')\n",
    "    fight_details_url = []\n",
    "    \n",
    "    for i in soup.select('tr.b-fight-details__table-row'):\n",
    "        if i.has_attr('data-link'):\n",
    "            fight_details_url.append(i['data-link'])\n",
    "\n",
    "    return fight_details_url"
   ]
  }
 ],
 "metadata": {
  "kernelspec": {
   "display_name": "Python 3",
   "language": "python",
   "name": "python3"
  },
  "language_info": {
   "codemirror_mode": {
    "name": "ipython",
    "version": 3
   },
   "file_extension": ".py",
   "mimetype": "text/x-python",
   "name": "python",
   "nbconvert_exporter": "python",
   "pygments_lexer": "ipython3",
   "version": "3.11.9"
  }
 },
 "nbformat": 4,
 "nbformat_minor": 2
}
