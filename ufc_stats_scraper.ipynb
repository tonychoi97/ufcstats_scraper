{
 "cells": [
  {
   "cell_type": "code",
   "execution_count": 146,
   "metadata": {},
   "outputs": [],
   "source": [
    "import pandas as pd\n",
    "import time\n",
    "import requests\n",
    "from requests.adapters import HTTPAdapter\n",
    "from urllib3.util.retry import Retry\n",
    "from bs4 import BeautifulSoup\n",
    "from IPython.display import display, HTML"
   ]
  },
  {
   "cell_type": "code",
   "execution_count": 145,
   "metadata": {},
   "outputs": [],
   "source": [
    "def get_ufcstats_links():\n",
    "    url = \"http://ufcstats.com/statistics/events/completed\"\n",
    "    response = requests.get(url)\n",
    "    soup = BeautifulSoup(response.text, \"html.parser\")\n",
    "    event_urls = []\n",
    "    fight_details_urls = []\n",
    "\n",
    "    for url in soup.select(\".b-statistics__table-content a\"):\n",
    "        if url.has_attr(\"href\"):\n",
    "            event_urls.append(url[\"href\"])\n",
    "    \n",
    "    for event_url in event_urls[:3]:\n",
    "        response = requests.get(event_url)\n",
    "        soup = BeautifulSoup(response.text, \"html.parser\")\n",
    "\n",
    "        for i in soup.select(\"tr.b-fight-details__table-row\"):\n",
    "            if i.has_attr(\"data-link\"):\n",
    "                fight_details_urls.append(i[\"data-link\"])\n",
    "\n",
    "    return fight_details_urls\n",
    "    "
   ]
  },
  {
   "cell_type": "code",
   "execution_count": 144,
   "metadata": {},
   "outputs": [],
   "source": [
    "def extracting_details(match_url):\n",
    "    response = requests.get(match_url)\n",
    "    soup = BeautifulSoup(response.text, \"html.parser\")\n",
    "\n",
    "    fighters = [name.text.strip() for name in soup.select(\".b-fight-details__person-name\")]\n",
    "    result = [status.text.strip() for status in soup.select(\".b-fight-details__person-status\")]\n",
    "    method = soup.select_one(\".b-fight-details__text-item_first:-soup-contains('Method')\")\n",
    "    round = soup.select_one(\".b-fight-details__text-item:-soup-contains('Round')\")\n",
    "    time = soup.select_one(\".b-fight-details__text-item:-soup-contains('Time')\")\n",
    "    time_format = soup.select_one(\".b-fight-details__text-item:-soup-contains('Time format')\")\n",
    "    referee = soup.select_one(\".b-fight-details__text-item:-soup-contains('Referee')\")\n",
    "    details = [detail.text.replace(\"\\n\", \"\") for detail in soup.select(\".b-fight-details__text\")]\n",
    "\n",
    "    fighter1_details = {\n",
    "        \"match_url\": match_url,\n",
    "        \"fighter\": fighters[0] if len(fighters) > 1 else \"null\",\n",
    "        \"fighting_against\": fighters[1] if len(fighters) > 1 else \"null\",\n",
    "        \"result\": result[0] if len(result) > 1 else \"null\",\n",
    "        \"method\": method.text.strip().split(\"\\n\")[-1] if method else \"null\",\n",
    "        \"round\": round.text.strip().split(\"\\n\")[-1] if round else \"null\",\n",
    "        \"time\": time.text.strip().split(\"\\n\")[-1] if time else \"null\",\n",
    "        \"time_format\": time_format.text.strip().split(\"\\n\")[-1] if time_format else \"null\",\n",
    "        \"referee\": referee.text.strip().split(\"\\n\")[-1] if referee else \"null\",\n",
    "        \"details\": details[1] if len(details) > 1 else \"null\",\n",
    "    }\n",
    "\n",
    "    fighter2_details = {\n",
    "        \"match_url\": match_url,\n",
    "        \"fighter\": fighters[1] if len(fighters) > 1 else \"null\",\n",
    "        \"fighting_against\": fighters[0] if len(fighters) > 1 else \"null\",\n",
    "        \"result\": result[1] if len(result) > 1 else \"null\",\n",
    "        \"method\": method.text.strip().split(\"\\n\")[-1] if method else \"null\",\n",
    "        \"round\": round.text.strip().split(\"\\n\")[-1] if round else \"null\",\n",
    "        \"time\": time.text.strip().split(\"\\n\")[-1] if time else \"null\",\n",
    "        \"time_format\": time_format.text.strip().split(\"\\n\")[-1] if time_format else \"null\",\n",
    "        \"referee\": referee.text.strip().split(\"\\n\")[-1] if referee else \"null\",\n",
    "        \"details\": details[1] if len(details) > 1 else \"null\",\n",
    "    }\n",
    "\n",
    "    return fighter1_details, fighter2_details"
   ]
  },
  {
   "cell_type": "code",
   "execution_count": 143,
   "metadata": {},
   "outputs": [],
   "source": [
    "def main():\n",
    "    fight_details_list = get_ufcstats_links()\n",
    "    list1, list2 = [], []\n",
    "    fights = []\n",
    "\n",
    "\n",
    "    for i in fight_details_list[30:32]:\n",
    "        list1, list2 = extracting_details(i)\n",
    "        fights.append(list1)\n",
    "        fights.append(list2)\n",
    "        time.sleep(3)\n",
    "\n",
    "    df_fights = pd.DataFrame(fights)\n",
    "    display(HTML(df_fights.to_html()))\n",
    "\n",
    "    print('Done.')"
   ]
  },
  {
   "cell_type": "code",
   "execution_count": null,
   "metadata": {},
   "outputs": [],
   "source": [
    "if __name__ == '__main__':\n",
    "    main()"
   ]
  }
 ],
 "metadata": {
  "kernelspec": {
   "display_name": "Python 3",
   "language": "python",
   "name": "python3"
  },
  "language_info": {
   "codemirror_mode": {
    "name": "ipython",
    "version": 3
   },
   "file_extension": ".py",
   "mimetype": "text/x-python",
   "name": "python",
   "nbconvert_exporter": "python",
   "pygments_lexer": "ipython3",
   "version": "3.11.9"
  }
 },
 "nbformat": 4,
 "nbformat_minor": 2
}
